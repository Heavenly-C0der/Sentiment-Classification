{
 "cells": [
  {
   "cell_type": "code",
   "execution_count": 44,
   "id": "13cc5595",
   "metadata": {},
   "outputs": [],
   "source": [
    "import wget"
   ]
  },
  {
   "cell_type": "code",
   "execution_count": 45,
   "id": "8d23cbe1",
   "metadata": {},
   "outputs": [],
   "source": [
    "#url = \"https://lazyprogrammer.me/course_files/AirlineTweets.csv\"\n",
    "#wget.download(url,\"twitter-airline-sentiment.csv\")"
   ]
  },
  {
   "cell_type": "code",
   "execution_count": 46,
   "id": "b9929b21",
   "metadata": {},
   "outputs": [],
   "source": [
    "\n",
    "\n",
    "import numpy as np\n",
    "import pandas as pd\n",
    "import seaborn as sns\n",
    "import tensorflow as tf\n",
    "import matplotlib.pyplot as plt\n",
    "from sklearn.model_selection import train_test_split\n",
    "from sklearn.feature_extraction.text import TfidfVectorizer\n",
    "from sklearn.metrics import roc_auc_score, f1_score, confusion_matrix\n",
    "\n",
    "from tensorflow.keras.layers import Dense, Input\n",
    "from tensorflow.keras.models import Model\n",
    "from tensorflow.keras.losses import BinaryCrossentropy\n",
    "from tensorflow.keras.optimizers import Adam"
   ]
  },
  {
   "cell_type": "code",
   "execution_count": 47,
   "id": "3577f58f",
   "metadata": {},
   "outputs": [],
   "source": [
    "np.random.seed(0)\n",
    "tf.random.set_seed(0)"
   ]
  },
  {
   "cell_type": "code",
   "execution_count": 48,
   "id": "1936a1a1",
   "metadata": {},
   "outputs": [],
   "source": [
    "df = pd.read_csv('data/twitter-airline-sentiment.csv')"
   ]
  },
  {
   "cell_type": "code",
   "execution_count": 49,
   "id": "19f5ad20",
   "metadata": {},
   "outputs": [
    {
     "data": {
      "application/vnd.microsoft.datawrangler.viewer.v0+json": {
       "columns": [
        {
         "name": "index",
         "rawType": "int64",
         "type": "integer"
        },
        {
         "name": "tweet_id",
         "rawType": "int64",
         "type": "integer"
        },
        {
         "name": "airline_sentiment",
         "rawType": "object",
         "type": "string"
        },
        {
         "name": "airline_sentiment_confidence",
         "rawType": "float64",
         "type": "float"
        },
        {
         "name": "negativereason",
         "rawType": "object",
         "type": "unknown"
        },
        {
         "name": "negativereason_confidence",
         "rawType": "float64",
         "type": "float"
        },
        {
         "name": "airline",
         "rawType": "object",
         "type": "string"
        },
        {
         "name": "airline_sentiment_gold",
         "rawType": "object",
         "type": "unknown"
        },
        {
         "name": "name",
         "rawType": "object",
         "type": "string"
        },
        {
         "name": "negativereason_gold",
         "rawType": "object",
         "type": "unknown"
        },
        {
         "name": "retweet_count",
         "rawType": "int64",
         "type": "integer"
        },
        {
         "name": "text",
         "rawType": "object",
         "type": "string"
        },
        {
         "name": "tweet_coord",
         "rawType": "object",
         "type": "unknown"
        },
        {
         "name": "tweet_created",
         "rawType": "object",
         "type": "string"
        },
        {
         "name": "tweet_location",
         "rawType": "object",
         "type": "unknown"
        },
        {
         "name": "user_timezone",
         "rawType": "object",
         "type": "string"
        }
       ],
       "conversionMethod": "pd.DataFrame",
       "ref": "4286a720-4b67-4546-bc93-0851ab6d3e6c",
       "rows": [
        [
         "0",
         "570306133677760513",
         "neutral",
         "1.0",
         null,
         null,
         "Virgin America",
         null,
         "cairdin",
         null,
         "0",
         "@VirginAmerica What @dhepburn said.",
         null,
         "2015-02-24 11:35:52 -0800",
         null,
         "Eastern Time (US & Canada)"
        ],
        [
         "1",
         "570301130888122368",
         "positive",
         "0.3486",
         null,
         "0.0",
         "Virgin America",
         null,
         "jnardino",
         null,
         "0",
         "@VirginAmerica plus you've added commercials to the experience... tacky.",
         null,
         "2015-02-24 11:15:59 -0800",
         null,
         "Pacific Time (US & Canada)"
        ],
        [
         "2",
         "570301083672813571",
         "neutral",
         "0.6837",
         null,
         null,
         "Virgin America",
         null,
         "yvonnalynn",
         null,
         "0",
         "@VirginAmerica I didn't today... Must mean I need to take another trip!",
         null,
         "2015-02-24 11:15:48 -0800",
         "Lets Play",
         "Central Time (US & Canada)"
        ],
        [
         "3",
         "570301031407624196",
         "negative",
         "1.0",
         "Bad Flight",
         "0.7033",
         "Virgin America",
         null,
         "jnardino",
         null,
         "0",
         "@VirginAmerica it's really aggressive to blast obnoxious \"entertainment\" in your guests' faces &amp; they have little recourse",
         null,
         "2015-02-24 11:15:36 -0800",
         null,
         "Pacific Time (US & Canada)"
        ],
        [
         "4",
         "570300817074462722",
         "negative",
         "1.0",
         "Can't Tell",
         "1.0",
         "Virgin America",
         null,
         "jnardino",
         null,
         "0",
         "@VirginAmerica and it's a really big bad thing about it",
         null,
         "2015-02-24 11:14:45 -0800",
         null,
         "Pacific Time (US & Canada)"
        ]
       ],
       "shape": {
        "columns": 15,
        "rows": 5
       }
      },
      "text/html": [
       "<div>\n",
       "<style scoped>\n",
       "    .dataframe tbody tr th:only-of-type {\n",
       "        vertical-align: middle;\n",
       "    }\n",
       "\n",
       "    .dataframe tbody tr th {\n",
       "        vertical-align: top;\n",
       "    }\n",
       "\n",
       "    .dataframe thead th {\n",
       "        text-align: right;\n",
       "    }\n",
       "</style>\n",
       "<table border=\"1\" class=\"dataframe\">\n",
       "  <thead>\n",
       "    <tr style=\"text-align: right;\">\n",
       "      <th></th>\n",
       "      <th>tweet_id</th>\n",
       "      <th>airline_sentiment</th>\n",
       "      <th>airline_sentiment_confidence</th>\n",
       "      <th>negativereason</th>\n",
       "      <th>negativereason_confidence</th>\n",
       "      <th>airline</th>\n",
       "      <th>airline_sentiment_gold</th>\n",
       "      <th>name</th>\n",
       "      <th>negativereason_gold</th>\n",
       "      <th>retweet_count</th>\n",
       "      <th>text</th>\n",
       "      <th>tweet_coord</th>\n",
       "      <th>tweet_created</th>\n",
       "      <th>tweet_location</th>\n",
       "      <th>user_timezone</th>\n",
       "    </tr>\n",
       "  </thead>\n",
       "  <tbody>\n",
       "    <tr>\n",
       "      <th>0</th>\n",
       "      <td>570306133677760513</td>\n",
       "      <td>neutral</td>\n",
       "      <td>1.0000</td>\n",
       "      <td>NaN</td>\n",
       "      <td>NaN</td>\n",
       "      <td>Virgin America</td>\n",
       "      <td>NaN</td>\n",
       "      <td>cairdin</td>\n",
       "      <td>NaN</td>\n",
       "      <td>0</td>\n",
       "      <td>@VirginAmerica What @dhepburn said.</td>\n",
       "      <td>NaN</td>\n",
       "      <td>2015-02-24 11:35:52 -0800</td>\n",
       "      <td>NaN</td>\n",
       "      <td>Eastern Time (US &amp; Canada)</td>\n",
       "    </tr>\n",
       "    <tr>\n",
       "      <th>1</th>\n",
       "      <td>570301130888122368</td>\n",
       "      <td>positive</td>\n",
       "      <td>0.3486</td>\n",
       "      <td>NaN</td>\n",
       "      <td>0.0000</td>\n",
       "      <td>Virgin America</td>\n",
       "      <td>NaN</td>\n",
       "      <td>jnardino</td>\n",
       "      <td>NaN</td>\n",
       "      <td>0</td>\n",
       "      <td>@VirginAmerica plus you've added commercials t...</td>\n",
       "      <td>NaN</td>\n",
       "      <td>2015-02-24 11:15:59 -0800</td>\n",
       "      <td>NaN</td>\n",
       "      <td>Pacific Time (US &amp; Canada)</td>\n",
       "    </tr>\n",
       "    <tr>\n",
       "      <th>2</th>\n",
       "      <td>570301083672813571</td>\n",
       "      <td>neutral</td>\n",
       "      <td>0.6837</td>\n",
       "      <td>NaN</td>\n",
       "      <td>NaN</td>\n",
       "      <td>Virgin America</td>\n",
       "      <td>NaN</td>\n",
       "      <td>yvonnalynn</td>\n",
       "      <td>NaN</td>\n",
       "      <td>0</td>\n",
       "      <td>@VirginAmerica I didn't today... Must mean I n...</td>\n",
       "      <td>NaN</td>\n",
       "      <td>2015-02-24 11:15:48 -0800</td>\n",
       "      <td>Lets Play</td>\n",
       "      <td>Central Time (US &amp; Canada)</td>\n",
       "    </tr>\n",
       "    <tr>\n",
       "      <th>3</th>\n",
       "      <td>570301031407624196</td>\n",
       "      <td>negative</td>\n",
       "      <td>1.0000</td>\n",
       "      <td>Bad Flight</td>\n",
       "      <td>0.7033</td>\n",
       "      <td>Virgin America</td>\n",
       "      <td>NaN</td>\n",
       "      <td>jnardino</td>\n",
       "      <td>NaN</td>\n",
       "      <td>0</td>\n",
       "      <td>@VirginAmerica it's really aggressive to blast...</td>\n",
       "      <td>NaN</td>\n",
       "      <td>2015-02-24 11:15:36 -0800</td>\n",
       "      <td>NaN</td>\n",
       "      <td>Pacific Time (US &amp; Canada)</td>\n",
       "    </tr>\n",
       "    <tr>\n",
       "      <th>4</th>\n",
       "      <td>570300817074462722</td>\n",
       "      <td>negative</td>\n",
       "      <td>1.0000</td>\n",
       "      <td>Can't Tell</td>\n",
       "      <td>1.0000</td>\n",
       "      <td>Virgin America</td>\n",
       "      <td>NaN</td>\n",
       "      <td>jnardino</td>\n",
       "      <td>NaN</td>\n",
       "      <td>0</td>\n",
       "      <td>@VirginAmerica and it's a really big bad thing...</td>\n",
       "      <td>NaN</td>\n",
       "      <td>2015-02-24 11:14:45 -0800</td>\n",
       "      <td>NaN</td>\n",
       "      <td>Pacific Time (US &amp; Canada)</td>\n",
       "    </tr>\n",
       "  </tbody>\n",
       "</table>\n",
       "</div>"
      ],
      "text/plain": [
       "             tweet_id airline_sentiment  airline_sentiment_confidence  \\\n",
       "0  570306133677760513           neutral                        1.0000   \n",
       "1  570301130888122368          positive                        0.3486   \n",
       "2  570301083672813571           neutral                        0.6837   \n",
       "3  570301031407624196          negative                        1.0000   \n",
       "4  570300817074462722          negative                        1.0000   \n",
       "\n",
       "  negativereason  negativereason_confidence         airline  \\\n",
       "0            NaN                        NaN  Virgin America   \n",
       "1            NaN                     0.0000  Virgin America   \n",
       "2            NaN                        NaN  Virgin America   \n",
       "3     Bad Flight                     0.7033  Virgin America   \n",
       "4     Can't Tell                     1.0000  Virgin America   \n",
       "\n",
       "  airline_sentiment_gold        name negativereason_gold  retweet_count  \\\n",
       "0                    NaN     cairdin                 NaN              0   \n",
       "1                    NaN    jnardino                 NaN              0   \n",
       "2                    NaN  yvonnalynn                 NaN              0   \n",
       "3                    NaN    jnardino                 NaN              0   \n",
       "4                    NaN    jnardino                 NaN              0   \n",
       "\n",
       "                                                text tweet_coord  \\\n",
       "0                @VirginAmerica What @dhepburn said.         NaN   \n",
       "1  @VirginAmerica plus you've added commercials t...         NaN   \n",
       "2  @VirginAmerica I didn't today... Must mean I n...         NaN   \n",
       "3  @VirginAmerica it's really aggressive to blast...         NaN   \n",
       "4  @VirginAmerica and it's a really big bad thing...         NaN   \n",
       "\n",
       "               tweet_created tweet_location               user_timezone  \n",
       "0  2015-02-24 11:35:52 -0800            NaN  Eastern Time (US & Canada)  \n",
       "1  2015-02-24 11:15:59 -0800            NaN  Pacific Time (US & Canada)  \n",
       "2  2015-02-24 11:15:48 -0800      Lets Play  Central Time (US & Canada)  \n",
       "3  2015-02-24 11:15:36 -0800            NaN  Pacific Time (US & Canada)  \n",
       "4  2015-02-24 11:14:45 -0800            NaN  Pacific Time (US & Canada)  "
      ]
     },
     "execution_count": 49,
     "metadata": {},
     "output_type": "execute_result"
    }
   ],
   "source": [
    "df.head()"
   ]
  },
  {
   "cell_type": "code",
   "execution_count": 50,
   "id": "d5331ec9",
   "metadata": {},
   "outputs": [
    {
     "data": {
      "text/plain": [
       "<Axes: >"
      ]
     },
     "execution_count": 50,
     "metadata": {},
     "output_type": "execute_result"
    },
    {
     "data": {
      "image/png": "[encoded data removed]",
      "text/plain": [
       "<Figure size 640x480 with 1 Axes>"
      ]
     },
     "metadata": {},
     "output_type": "display_data"
    }
   ],
   "source": [
    "df  =df[['airline_sentiment','text']]\n",
    "df['airline_sentiment'].hist()"
   ]
  },
  {
   "cell_type": "code",
   "execution_count": 51,
   "id": "0c3c1157",
   "metadata": {},
   "outputs": [],
   "source": [
    "df = df[df['airline_sentiment'] != 'neutral'].copy()"
   ]
  },
  {
   "cell_type": "code",
   "execution_count": 52,
   "id": "0e22da1f",
   "metadata": {},
   "outputs": [
    {
     "data": {
      "application/vnd.microsoft.datawrangler.viewer.v0+json": {
       "columns": [
        {
         "name": "index",
         "rawType": "int64",
         "type": "integer"
        },
        {
         "name": "airline_sentiment",
         "rawType": "object",
         "type": "string"
        },
        {
         "name": "text",
         "rawType": "object",
         "type": "string"
        },
        {
         "name": "target",
         "rawType": "int64",
         "type": "integer"
        }
       ],
       "conversionMethod": "pd.DataFrame",
       "ref": "3f3fab5d-1752-43fc-b113-353a171f24a5",
       "rows": [
        [
         "1",
         "positive",
         "@VirginAmerica plus you've added commercials to the experience... tacky.",
         "1"
        ],
        [
         "3",
         "negative",
         "@VirginAmerica it's really aggressive to blast obnoxious \"entertainment\" in your guests' faces &amp; they have little recourse",
         "0"
        ],
        [
         "4",
         "negative",
         "@VirginAmerica and it's a really big bad thing about it",
         "0"
        ],
        [
         "5",
         "negative",
         "@VirginAmerica seriously would pay $30 a flight for seats that didn't have this playing.\nit's really the only bad thing about flying VA",
         "0"
        ],
        [
         "6",
         "positive",
         "@VirginAmerica yes, nearly every time I fly VX this “ear worm” won’t go away :)",
         "1"
        ]
       ],
       "shape": {
        "columns": 3,
        "rows": 5
       }
      },
      "text/html": [
       "<div>\n",
       "<style scoped>\n",
       "    .dataframe tbody tr th:only-of-type {\n",
       "        vertical-align: middle;\n",
       "    }\n",
       "\n",
       "    .dataframe tbody tr th {\n",
       "        vertical-align: top;\n",
       "    }\n",
       "\n",
       "    .dataframe thead th {\n",
       "        text-align: right;\n",
       "    }\n",
       "</style>\n",
       "<table border=\"1\" class=\"dataframe\">\n",
       "  <thead>\n",
       "    <tr style=\"text-align: right;\">\n",
       "      <th></th>\n",
       "      <th>airline_sentiment</th>\n",
       "      <th>text</th>\n",
       "      <th>target</th>\n",
       "    </tr>\n",
       "  </thead>\n",
       "  <tbody>\n",
       "    <tr>\n",
       "      <th>1</th>\n",
       "      <td>positive</td>\n",
       "      <td>@VirginAmerica plus you've added commercials t...</td>\n",
       "      <td>1</td>\n",
       "    </tr>\n",
       "    <tr>\n",
       "      <th>3</th>\n",
       "      <td>negative</td>\n",
       "      <td>@VirginAmerica it's really aggressive to blast...</td>\n",
       "      <td>0</td>\n",
       "    </tr>\n",
       "    <tr>\n",
       "      <th>4</th>\n",
       "      <td>negative</td>\n",
       "      <td>@VirginAmerica and it's a really big bad thing...</td>\n",
       "      <td>0</td>\n",
       "    </tr>\n",
       "    <tr>\n",
       "      <th>5</th>\n",
       "      <td>negative</td>\n",
       "      <td>@VirginAmerica seriously would pay $30 a fligh...</td>\n",
       "      <td>0</td>\n",
       "    </tr>\n",
       "    <tr>\n",
       "      <th>6</th>\n",
       "      <td>positive</td>\n",
       "      <td>@VirginAmerica yes, nearly every time I fly VX...</td>\n",
       "      <td>1</td>\n",
       "    </tr>\n",
       "  </tbody>\n",
       "</table>\n",
       "</div>"
      ],
      "text/plain": [
       "  airline_sentiment                                               text  target\n",
       "1          positive  @VirginAmerica plus you've added commercials t...       1\n",
       "3          negative  @VirginAmerica it's really aggressive to blast...       0\n",
       "4          negative  @VirginAmerica and it's a really big bad thing...       0\n",
       "5          negative  @VirginAmerica seriously would pay $30 a fligh...       0\n",
       "6          positive  @VirginAmerica yes, nearly every time I fly VX...       1"
      ]
     },
     "execution_count": 52,
     "metadata": {},
     "output_type": "execute_result"
    }
   ],
   "source": [
    "target_map = {'positive': 1, 'negative': 0}\n",
    "df['target']  =df['airline_sentiment'].map(target_map)\n",
    "df.head()"
   ]
  },
  {
   "cell_type": "code",
   "execution_count": 53,
   "id": "d8ff0e93",
   "metadata": {},
   "outputs": [],
   "source": [
    "df_train , df_test = train_test_split(df, test_size=0.2, random_state=0)"
   ]
  },
  {
   "cell_type": "code",
   "execution_count": 54,
   "id": "571366bd",
   "metadata": {},
   "outputs": [],
   "source": [
    "vectorizer = TfidfVectorizer(max_features=2000)\n",
    "X_train = vectorizer.fit_transform(df_train['text'])\n",
    "X_test = vectorizer.transform(df_test['text'])\n",
    "Y_train = df_train['target']\n",
    "Y_test = df_test['target']"
   ]
  },
  {
   "cell_type": "code",
   "execution_count": 55,
   "id": "bc18dae6",
   "metadata": {},
   "outputs": [
    {
     "data": {
      "text/plain": [
       "((9232, 2000), (9232,), (2309, 2000), (2309,))"
      ]
     },
     "execution_count": 55,
     "metadata": {},
     "output_type": "execute_result"
    }
   ],
   "source": [
    "X_train.shape, Y_train.shape, X_test.shape, Y_test.shape"
   ]
  },
  {
   "cell_type": "code",
   "execution_count": 56,
   "id": "77853663",
   "metadata": {},
   "outputs": [],
   "source": [
    "D =X_train.shape[1]"
   ]
  },
  {
   "cell_type": "code",
   "execution_count": 57,
   "id": "faaa9d5a",
   "metadata": {},
   "outputs": [],
   "source": [
    "i = Input(shape=(D,))\n",
    "x = Dense(1)(i)\n",
    "\n",
    "model = Model(i , x)"
   ]
  },
  {
   "cell_type": "code",
   "execution_count": 58,
   "id": "0ab4def4",
   "metadata": {},
   "outputs": [
    {
     "data": {
      "text/plain": [
       "2"
      ]
     },
     "execution_count": 58,
     "metadata": {},
     "output_type": "execute_result"
    }
   ],
   "source": [
    "x.ndim"
   ]
  },
  {
   "cell_type": "code",
   "execution_count": 59,
   "id": "5d7d5ec3",
   "metadata": {},
   "outputs": [
    {
     "data": {
      "text/html": [
       "<pre style=\"white-space:pre;overflow-x:auto;line-height:normal;font-family:Menlo,'DejaVu Sans Mono',consolas,'Courier New',monospace\"><span style=\"font-weight: bold\">Model: \"functional_1\"</span>\n",
       "</pre>\n"
      ],
      "text/plain": [
       "\u001b[1mModel: \"functional_1\"\u001b[0m\n"
      ]
     },
     "metadata": {},
     "output_type": "display_data"
    },
    {
     "data": {
      "text/html": [
       "<pre style=\"white-space:pre;overflow-x:auto;line-height:normal;font-family:Menlo,'DejaVu Sans Mono',consolas,'Courier New',monospace\">┏━━━━━━━━━━━━━━━━━━━━━━━━━━━━━━━━━┳━━━━━━━━━━━━━━━━━━━━━━━━┳━━━━━━━━━━━━━━━┓\n",
       "┃<span style=\"font-weight: bold\"> Layer (type)                    </span>┃<span style=\"font-weight: bold\"> Output Shape           </span>┃<span style=\"font-weight: bold\">       Param # </span>┃\n",
       "┡━━━━━━━━━━━━━━━━━━━━━━━━━━━━━━━━━╇━━━━━━━━━━━━━━━━━━━━━━━━╇━━━━━━━━━━━━━━━┩\n",
       "│ input_layer_1 (<span style=\"color: #0087ff; text-decoration-color: #0087ff\">InputLayer</span>)      │ (<span style=\"color: #00d7ff; text-decoration-color: #00d7ff\">None</span>, <span style=\"color: #00af00; text-decoration-color: #00af00\">2000</span>)           │             <span style=\"color: #00af00; text-decoration-color: #00af00\">0</span> │\n",
       "├─────────────────────────────────┼────────────────────────┼───────────────┤\n",
       "│ dense_1 (<span style=\"color: #0087ff; text-decoration-color: #0087ff\">Dense</span>)                 │ (<span style=\"color: #00d7ff; text-decoration-color: #00d7ff\">None</span>, <span style=\"color: #00af00; text-decoration-color: #00af00\">1</span>)              │         <span style=\"color: #00af00; text-decoration-color: #00af00\">2,001</span> │\n",
       "└─────────────────────────────────┴────────────────────────┴───────────────┘\n",
       "</pre>\n"
      ],
      "text/plain": [
       "┏━━━━━━━━━━━━━━━━━━━━━━━━━━━━━━━━━┳━━━━━━━━━━━━━━━━━━━━━━━━┳━━━━━━━━━━━━━━━┓\n",
       "┃\u001b[1m \u001b[0m\u001b[1mLayer (type)                   \u001b[0m\u001b[1m \u001b[0m┃\u001b[1m \u001b[0m\u001b[1mOutput Shape          \u001b[0m\u001b[1m \u001b[0m┃\u001b[1m \u001b[0m\u001b[1m      Param #\u001b[0m\u001b[1m \u001b[0m┃\n",
       "┡━━━━━━━━━━━━━━━━━━━━━━━━━━━━━━━━━╇━━━━━━━━━━━━━━━━━━━━━━━━╇━━━━━━━━━━━━━━━┩\n",
       "│ input_layer_1 (\u001b[38;5;33mInputLayer\u001b[0m)      │ (\u001b[38;5;45mNone\u001b[0m, \u001b[38;5;34m2000\u001b[0m)           │             \u001b[38;5;34m0\u001b[0m │\n",
       "├─────────────────────────────────┼────────────────────────┼───────────────┤\n",
       "│ dense_1 (\u001b[38;5;33mDense\u001b[0m)                 │ (\u001b[38;5;45mNone\u001b[0m, \u001b[38;5;34m1\u001b[0m)              │         \u001b[38;5;34m2,001\u001b[0m │\n",
       "└─────────────────────────────────┴────────────────────────┴───────────────┘\n"
      ]
     },
     "metadata": {},
     "output_type": "display_data"
    },
    {
     "data": {
      "text/html": [
       "<pre style=\"white-space:pre;overflow-x:auto;line-height:normal;font-family:Menlo,'DejaVu Sans Mono',consolas,'Courier New',monospace\"><span style=\"font-weight: bold\"> Total params: </span><span style=\"color: #00af00; text-decoration-color: #00af00\">2,001</span> (7.82 KB)\n",
       "</pre>\n"
      ],
      "text/plain": [
       "\u001b[1m Total params: \u001b[0m\u001b[38;5;34m2,001\u001b[0m (7.82 KB)\n"
      ]
     },
     "metadata": {},
     "output_type": "display_data"
    },
    {
     "data": {
      "text/html": [
       "<pre style=\"white-space:pre;overflow-x:auto;line-height:normal;font-family:Menlo,'DejaVu Sans Mono',consolas,'Courier New',monospace\"><span style=\"font-weight: bold\"> Trainable params: </span><span style=\"color: #00af00; text-decoration-color: #00af00\">2,001</span> (7.82 KB)\n",
       "</pre>\n"
      ],
      "text/plain": [
       "\u001b[1m Trainable params: \u001b[0m\u001b[38;5;34m2,001\u001b[0m (7.82 KB)\n"
      ]
     },
     "metadata": {},
     "output_type": "display_data"
    },
    {
     "data": {
      "text/html": [
       "<pre style=\"white-space:pre;overflow-x:auto;line-height:normal;font-family:Menlo,'DejaVu Sans Mono',consolas,'Courier New',monospace\"><span style=\"font-weight: bold\"> Non-trainable params: </span><span style=\"color: #00af00; text-decoration-color: #00af00\">0</span> (0.00 B)\n",
       "</pre>\n"
      ],
      "text/plain": [
       "\u001b[1m Non-trainable params: \u001b[0m\u001b[38;5;34m0\u001b[0m (0.00 B)\n"
      ]
     },
     "metadata": {},
     "output_type": "display_data"
    }
   ],
   "source": [
    "model.summary()"
   ]
  },
  {
   "cell_type": "code",
   "execution_count": 60,
   "id": "6d5afec0",
   "metadata": {},
   "outputs": [],
   "source": [
    "model.compile(\n",
    "    loss = BinaryCrossentropy(from_logits=True),\n",
    "    optimizer = Adam(learning_rate=0.01),\n",
    "    metrics = ['accuracy']\n",
    ")"
   ]
  },
  {
   "cell_type": "code",
   "execution_count": 61,
   "id": "9ee66f04",
   "metadata": {},
   "outputs": [
    {
     "name": "stdout",
     "output_type": "stream",
     "text": [
      "Epoch 1/40\n",
      "\u001b[1m73/73\u001b[0m \u001b[32m━━━━━━━━━━━━━━━━━━━━\u001b[0m\u001b[37m\u001b[0m \u001b[1m1s\u001b[0m 4ms/step - accuracy: 0.7890 - loss: 0.5668 - val_accuracy: 0.7964 - val_loss: 0.3955\n",
      "Epoch 2/40\n",
      "\u001b[1m73/73\u001b[0m \u001b[32m━━━━━━━━━━━━━━━━━━━━\u001b[0m\u001b[37m\u001b[0m \u001b[1m0s\u001b[0m 2ms/step - accuracy: 0.7918 - loss: 0.3877 - val_accuracy: 0.8129 - val_loss: 0.3364\n",
      "Epoch 3/40\n",
      "\u001b[1m73/73\u001b[0m \u001b[32m━━━━━━━━━━━━━━━━━━━━\u001b[0m\u001b[37m\u001b[0m \u001b[1m0s\u001b[0m 2ms/step - accuracy: 0.8144 - loss: 0.3298 - val_accuracy: 0.8385 - val_loss: 0.2982\n",
      "Epoch 4/40\n",
      "\u001b[1m73/73\u001b[0m \u001b[32m━━━━━━━━━━━━━━━━━━━━\u001b[0m\u001b[37m\u001b[0m \u001b[1m0s\u001b[0m 2ms/step - accuracy: 0.8402 - loss: 0.2901 - val_accuracy: 0.8631 - val_loss: 0.2722\n",
      "Epoch 5/40\n",
      "\u001b[1m73/73\u001b[0m \u001b[32m━━━━━━━━━━━━━━━━━━━━\u001b[0m\u001b[37m\u001b[0m \u001b[1m0s\u001b[0m 2ms/step - accuracy: 0.8600 - loss: 0.2617 - val_accuracy: 0.8766 - val_loss: 0.2536\n",
      "Epoch 6/40\n",
      "\u001b[1m73/73\u001b[0m \u001b[32m━━━━━━━━━━━━━━━━━━━━\u001b[0m\u001b[37m\u001b[0m \u001b[1m0s\u001b[0m 2ms/step - accuracy: 0.8791 - loss: 0.2403 - val_accuracy: 0.8917 - val_loss: 0.2398\n",
      "Epoch 7/40\n",
      "\u001b[1m73/73\u001b[0m \u001b[32m━━━━━━━━━━━━━━━━━━━━\u001b[0m\u001b[37m\u001b[0m \u001b[1m0s\u001b[0m 2ms/step - accuracy: 0.8911 - loss: 0.2236 - val_accuracy: 0.8991 - val_loss: 0.2292\n",
      "Epoch 8/40\n",
      "\u001b[1m73/73\u001b[0m \u001b[32m━━━━━━━━━━━━━━━━━━━━\u001b[0m\u001b[37m\u001b[0m \u001b[1m0s\u001b[0m 2ms/step - accuracy: 0.8984 - loss: 0.2102 - val_accuracy: 0.9026 - val_loss: 0.2209\n",
      "Epoch 9/40\n",
      "\u001b[1m73/73\u001b[0m \u001b[32m━━━━━━━━━━━━━━━━━━━━\u001b[0m\u001b[37m\u001b[0m \u001b[1m0s\u001b[0m 2ms/step - accuracy: 0.9054 - loss: 0.1990 - val_accuracy: 0.9073 - val_loss: 0.2142\n",
      "Epoch 10/40\n",
      "\u001b[1m73/73\u001b[0m \u001b[32m━━━━━━━━━━━━━━━━━━━━\u001b[0m\u001b[37m\u001b[0m \u001b[1m0s\u001b[0m 2ms/step - accuracy: 0.9110 - loss: 0.1896 - val_accuracy: 0.9104 - val_loss: 0.2088\n",
      "Epoch 11/40\n",
      "\u001b[1m73/73\u001b[0m \u001b[32m━━━━━━━━━━━━━━━━━━━━\u001b[0m\u001b[37m\u001b[0m \u001b[1m0s\u001b[0m 2ms/step - accuracy: 0.9172 - loss: 0.1814 - val_accuracy: 0.9138 - val_loss: 0.2043\n",
      "Epoch 12/40\n",
      "\u001b[1m73/73\u001b[0m \u001b[32m━━━━━━━━━━━━━━━━━━━━\u001b[0m\u001b[37m\u001b[0m \u001b[1m0s\u001b[0m 2ms/step - accuracy: 0.9222 - loss: 0.1743 - val_accuracy: 0.9142 - val_loss: 0.2005\n",
      "Epoch 13/40\n",
      "\u001b[1m73/73\u001b[0m \u001b[32m━━━━━━━━━━━━━━━━━━━━\u001b[0m\u001b[37m\u001b[0m \u001b[1m0s\u001b[0m 2ms/step - accuracy: 0.9271 - loss: 0.1681 - val_accuracy: 0.9160 - val_loss: 0.1974\n",
      "Epoch 14/40\n",
      "\u001b[1m73/73\u001b[0m \u001b[32m━━━━━━━━━━━━━━━━━━━━\u001b[0m\u001b[37m\u001b[0m \u001b[1m0s\u001b[0m 2ms/step - accuracy: 0.9295 - loss: 0.1625 - val_accuracy: 0.9177 - val_loss: 0.1947\n",
      "Epoch 15/40\n",
      "\u001b[1m73/73\u001b[0m \u001b[32m━━━━━━━━━━━━━━━━━━━━\u001b[0m\u001b[37m\u001b[0m \u001b[1m0s\u001b[0m 2ms/step - accuracy: 0.9326 - loss: 0.1574 - val_accuracy: 0.9181 - val_loss: 0.1924\n",
      "Epoch 16/40\n",
      "\u001b[1m73/73\u001b[0m \u001b[32m━━━━━━━━━━━━━━━━━━━━\u001b[0m\u001b[37m\u001b[0m \u001b[1m0s\u001b[0m 2ms/step - accuracy: 0.9354 - loss: 0.1529 - val_accuracy: 0.9181 - val_loss: 0.1904\n",
      "Epoch 17/40\n",
      "\u001b[1m73/73\u001b[0m \u001b[32m━━━━━━━━━━━━━━━━━━━━\u001b[0m\u001b[37m\u001b[0m \u001b[1m0s\u001b[0m 2ms/step - accuracy: 0.9383 - loss: 0.1487 - val_accuracy: 0.9181 - val_loss: 0.1888\n",
      "Epoch 18/40\n",
      "\u001b[1m73/73\u001b[0m \u001b[32m━━━━━━━━━━━━━━━━━━━━\u001b[0m\u001b[37m\u001b[0m \u001b[1m0s\u001b[0m 2ms/step - accuracy: 0.9406 - loss: 0.1449 - val_accuracy: 0.9190 - val_loss: 0.1874\n",
      "Epoch 19/40\n",
      "\u001b[1m73/73\u001b[0m \u001b[32m━━━━━━━━━━━━━━━━━━━━\u001b[0m\u001b[37m\u001b[0m \u001b[1m0s\u001b[0m 2ms/step - accuracy: 0.9416 - loss: 0.1414 - val_accuracy: 0.9203 - val_loss: 0.1862\n",
      "Epoch 20/40\n",
      "\u001b[1m73/73\u001b[0m \u001b[32m━━━━━━━━━━━━━━━━━━━━\u001b[0m\u001b[37m\u001b[0m \u001b[1m0s\u001b[0m 2ms/step - accuracy: 0.9439 - loss: 0.1381 - val_accuracy: 0.9212 - val_loss: 0.1851\n",
      "Epoch 21/40\n",
      "\u001b[1m73/73\u001b[0m \u001b[32m━━━━━━━━━━━━━━━━━━━━\u001b[0m\u001b[37m\u001b[0m \u001b[1m0s\u001b[0m 2ms/step - accuracy: 0.9447 - loss: 0.1351 - val_accuracy: 0.9212 - val_loss: 0.1843\n",
      "Epoch 22/40\n",
      "\u001b[1m73/73\u001b[0m \u001b[32m━━━━━━━━━━━━━━━━━━━━\u001b[0m\u001b[37m\u001b[0m \u001b[1m0s\u001b[0m 2ms/step - accuracy: 0.9461 - loss: 0.1323 - val_accuracy: 0.9220 - val_loss: 0.1836\n",
      "Epoch 23/40\n",
      "\u001b[1m73/73\u001b[0m \u001b[32m━━━━━━━━━━━━━━━━━━━━\u001b[0m\u001b[37m\u001b[0m \u001b[1m0s\u001b[0m 2ms/step - accuracy: 0.9464 - loss: 0.1296 - val_accuracy: 0.9203 - val_loss: 0.1830\n",
      "Epoch 24/40\n",
      "\u001b[1m73/73\u001b[0m \u001b[32m━━━━━━━━━━━━━━━━━━━━\u001b[0m\u001b[37m\u001b[0m \u001b[1m0s\u001b[0m 2ms/step - accuracy: 0.9478 - loss: 0.1272 - val_accuracy: 0.9207 - val_loss: 0.1825\n",
      "Epoch 25/40\n",
      "\u001b[1m73/73\u001b[0m \u001b[32m━━━━━━━━━━━━━━━━━━━━\u001b[0m\u001b[37m\u001b[0m \u001b[1m0s\u001b[0m 2ms/step - accuracy: 0.9491 - loss: 0.1248 - val_accuracy: 0.9212 - val_loss: 0.1822\n",
      "Epoch 26/40\n",
      "\u001b[1m73/73\u001b[0m \u001b[32m━━━━━━━━━━━━━━━━━━━━\u001b[0m\u001b[37m\u001b[0m \u001b[1m0s\u001b[0m 2ms/step - accuracy: 0.9496 - loss: 0.1226 - val_accuracy: 0.9203 - val_loss: 0.1819\n",
      "Epoch 27/40\n",
      "\u001b[1m73/73\u001b[0m \u001b[32m━━━━━━━━━━━━━━━━━━━━\u001b[0m\u001b[37m\u001b[0m \u001b[1m0s\u001b[0m 2ms/step - accuracy: 0.9501 - loss: 0.1205 - val_accuracy: 0.9216 - val_loss: 0.1817\n",
      "Epoch 28/40\n",
      "\u001b[1m73/73\u001b[0m \u001b[32m━━━━━━━━━━━━━━━━━━━━\u001b[0m\u001b[37m\u001b[0m \u001b[1m0s\u001b[0m 2ms/step - accuracy: 0.9508 - loss: 0.1185 - val_accuracy: 0.9216 - val_loss: 0.1816\n",
      "Epoch 29/40\n",
      "\u001b[1m73/73\u001b[0m \u001b[32m━━━━━━━━━━━━━━━━━━━━\u001b[0m\u001b[37m\u001b[0m \u001b[1m0s\u001b[0m 2ms/step - accuracy: 0.9517 - loss: 0.1167 - val_accuracy: 0.9220 - val_loss: 0.1816\n",
      "Epoch 30/40\n",
      "\u001b[1m73/73\u001b[0m \u001b[32m━━━━━━━━━━━━━━━━━━━━\u001b[0m\u001b[37m\u001b[0m \u001b[1m0s\u001b[0m 2ms/step - accuracy: 0.9520 - loss: 0.1149 - val_accuracy: 0.9220 - val_loss: 0.1816\n",
      "Epoch 31/40\n",
      "\u001b[1m73/73\u001b[0m \u001b[32m━━━━━━━━━━━━━━━━━━━━\u001b[0m\u001b[37m\u001b[0m \u001b[1m0s\u001b[0m 2ms/step - accuracy: 0.9530 - loss: 0.1132 - val_accuracy: 0.9220 - val_loss: 0.1817\n",
      "Epoch 32/40\n",
      "\u001b[1m73/73\u001b[0m \u001b[32m━━━━━━━━━━━━━━━━━━━━\u001b[0m\u001b[37m\u001b[0m \u001b[1m0s\u001b[0m 2ms/step - accuracy: 0.9540 - loss: 0.1115 - val_accuracy: 0.9225 - val_loss: 0.1819\n",
      "Epoch 33/40\n",
      "\u001b[1m73/73\u001b[0m \u001b[32m━━━━━━━━━━━━━━━━━━━━\u001b[0m\u001b[37m\u001b[0m \u001b[1m0s\u001b[0m 2ms/step - accuracy: 0.9544 - loss: 0.1100 - val_accuracy: 0.9229 - val_loss: 0.1821\n",
      "Epoch 34/40\n",
      "\u001b[1m73/73\u001b[0m \u001b[32m━━━━━━━━━━━━━━━━━━━━\u001b[0m\u001b[37m\u001b[0m \u001b[1m0s\u001b[0m 2ms/step - accuracy: 0.9547 - loss: 0.1085 - val_accuracy: 0.9225 - val_loss: 0.1824\n",
      "Epoch 35/40\n",
      "\u001b[1m73/73\u001b[0m \u001b[32m━━━━━━━━━━━━━━━━━━━━\u001b[0m\u001b[37m\u001b[0m \u001b[1m0s\u001b[0m 2ms/step - accuracy: 0.9560 - loss: 0.1071 - val_accuracy: 0.9225 - val_loss: 0.1827\n",
      "Epoch 36/40\n",
      "\u001b[1m73/73\u001b[0m \u001b[32m━━━━━━━━━━━━━━━━━━━━\u001b[0m\u001b[37m\u001b[0m \u001b[1m0s\u001b[0m 2ms/step - accuracy: 0.9566 - loss: 0.1057 - val_accuracy: 0.9225 - val_loss: 0.1830\n",
      "Epoch 37/40\n",
      "\u001b[1m73/73\u001b[0m \u001b[32m━━━━━━━━━━━━━━━━━━━━\u001b[0m\u001b[37m\u001b[0m \u001b[1m0s\u001b[0m 2ms/step - accuracy: 0.9571 - loss: 0.1044 - val_accuracy: 0.9225 - val_loss: 0.1834\n",
      "Epoch 38/40\n",
      "\u001b[1m73/73\u001b[0m \u001b[32m━━━━━━━━━━━━━━━━━━━━\u001b[0m\u001b[37m\u001b[0m \u001b[1m0s\u001b[0m 2ms/step - accuracy: 0.9580 - loss: 0.1031 - val_accuracy: 0.9229 - val_loss: 0.1839\n",
      "Epoch 39/40\n",
      "\u001b[1m73/73\u001b[0m \u001b[32m━━━━━━━━━━━━━━━━━━━━\u001b[0m\u001b[37m\u001b[0m \u001b[1m0s\u001b[0m 2ms/step - accuracy: 0.9584 - loss: 0.1019 - val_accuracy: 0.9225 - val_loss: 0.1843\n",
      "Epoch 40/40\n",
      "\u001b[1m73/73\u001b[0m \u001b[32m━━━━━━━━━━━━━━━━━━━━\u001b[0m\u001b[37m\u001b[0m \u001b[1m0s\u001b[0m 2ms/step - accuracy: 0.9593 - loss: 0.1007 - val_accuracy: 0.9220 - val_loss: 0.1848\n"
     ]
    }
   ],
   "source": [
    "r = model.fit(\n",
    "  X_train, Y_train,\n",
    "  validation_data=(X_test, Y_test),\n",
    "  epochs=40,\n",
    "  batch_size=128,\n",
    ")"
   ]
  },
  {
   "cell_type": "code",
   "execution_count": 62,
   "id": "26d5043f",
   "metadata": {},
   "outputs": [
    {
     "data": {
      "text/plain": [
       "<matplotlib.legend.Legend at 0x247ab7c71a0>"
      ]
     },
     "execution_count": 62,
     "metadata": {},
     "output_type": "execute_result"
    },
    {
     "data": {
      "image/png": "[encoded data removed]",
      "text/plain": [
       "<Figure size 640x480 with 1 Axes>"
      ]
     },
     "metadata": {},
     "output_type": "display_data"
    }
   ],
   "source": [
    "# Plot loss per iteration\n",
    "plt.plot(r.history['loss'], label='train loss')\n",
    "plt.plot(r.history['val_loss'], label='val loss')\n",
    "plt.legend()"
   ]
  },
  {
   "cell_type": "code",
   "execution_count": 63,
   "id": "d3afde22",
   "metadata": {},
   "outputs": [
    {
     "data": {
      "image/png": "[encoded data removed]",
      "text/plain": [
       "<Figure size 640x480 with 1 Axes>"
      ]
     },
     "metadata": {},
     "output_type": "display_data"
    }
   ],
   "source": [
    "# Plot accuracy per iteration\n",
    "plt.plot(r.history['accuracy'], label='train acc')\n",
    "plt.plot(r.history['val_accuracy'], label='val acc')\n",
    "plt.legend();"
   ]
  },
  {
   "cell_type": "code",
   "execution_count": 64,
   "id": "5b8bc3ec",
   "metadata": {},
   "outputs": [
    {
     "name": "stdout",
     "output_type": "stream",
     "text": [
      "\u001b[1m289/289\u001b[0m \u001b[32m━━━━━━━━━━━━━━━━━━━━\u001b[0m\u001b[37m\u001b[0m \u001b[1m0s\u001b[0m 711us/step\n"
     ]
    },
    {
     "data": {
      "text/plain": [
       "(9232, 1)"
      ]
     },
     "execution_count": 64,
     "metadata": {},
     "output_type": "execute_result"
    }
   ],
   "source": [
    "model.predict(X_train).shape"
   ]
  },
  {
   "cell_type": "code",
   "execution_count": 65,
   "id": "c6f759be",
   "metadata": {},
   "outputs": [
    {
     "name": "stdout",
     "output_type": "stream",
     "text": [
      "\u001b[1m289/289\u001b[0m \u001b[32m━━━━━━━━━━━━━━━━━━━━\u001b[0m\u001b[37m\u001b[0m \u001b[1m0s\u001b[0m 656us/step\n",
      "\u001b[1m73/73\u001b[0m \u001b[32m━━━━━━━━━━━━━━━━━━━━\u001b[0m\u001b[37m\u001b[0m \u001b[1m0s\u001b[0m 966us/step\n"
     ]
    }
   ],
   "source": [
    "P_train = ((model.predict(X_train) > 0) * 1.0).flatten()\n",
    "P_test = ((model.predict(X_test) > 0) * 1.0).flatten()"
   ]
  },
  {
   "cell_type": "code",
   "execution_count": 66,
   "id": "e654c49e",
   "metadata": {},
   "outputs": [
    {
     "data": {
      "text/plain": [
       "array([[0.98828178, 0.01171822],\n",
       "       [0.10195457, 0.89804543]])"
      ]
     },
     "execution_count": 66,
     "metadata": {},
     "output_type": "execute_result"
    }
   ],
   "source": [
    "cm = confusion_matrix(Y_train, P_train, normalize='true')\n",
    "cm"
   ]
  },
  {
   "cell_type": "code",
   "execution_count": 67,
   "id": "e23a0f5d",
   "metadata": {},
   "outputs": [
    {
     "data": {
      "image/png": "[encoded data removed]",
      "text/plain": [
       "<Figure size 640x480 with 2 Axes>"
      ]
     },
     "metadata": {},
     "output_type": "display_data"
    }
   ],
   "source": [
    "# Scikit-Learn is transitioning to V1 but it's not available on Colab\n",
    "# The changes modify how confusion matrices are plotted\n",
    "def plot_cm(cm):\n",
    "  classes = ['negative', 'positive']\n",
    "  df_cm = pd.DataFrame(cm, index=classes, columns=classes)\n",
    "  ax = sns.heatmap(df_cm, annot=True, fmt='g')\n",
    "  ax.set_xlabel(\"Predicted\")\n",
    "  ax.set_ylabel(\"Target\")\n",
    "\n",
    "plot_cm(cm)"
   ]
  },
  {
   "cell_type": "code",
   "execution_count": 68,
   "id": "5bc96e0d",
   "metadata": {},
   "outputs": [
    {
     "data": {
      "image/png": "[encoded data removed]",
      "text/plain": [
       "<Figure size 640x480 with 2 Axes>"
      ]
     },
     "metadata": {},
     "output_type": "display_data"
    }
   ],
   "source": [
    "cm_test = confusion_matrix(Y_test, P_test, normalize='true')\n",
    "plot_cm(cm_test)"
   ]
  },
  {
   "cell_type": "code",
   "execution_count": 69,
   "id": "ac560be8",
   "metadata": {},
   "outputs": [
    {
     "name": "stdout",
     "output_type": "stream",
     "text": [
      "\u001b[1m289/289\u001b[0m \u001b[32m━━━━━━━━━━━━━━━━━━━━\u001b[0m\u001b[37m\u001b[0m \u001b[1m0s\u001b[0m 671us/step\n",
      "\u001b[1m73/73\u001b[0m \u001b[32m━━━━━━━━━━━━━━━━━━━━\u001b[0m\u001b[37m\u001b[0m \u001b[1m0s\u001b[0m 890us/step\n",
      "Train AUC: 0.9935492146358307\n",
      "Test AUC: 0.9621498733122766\n"
     ]
    }
   ],
   "source": [
    "Pr_train = model.predict(X_train)\n",
    "Pr_test = model.predict(X_test)\n",
    "print(\"Train AUC:\", roc_auc_score(Y_train, Pr_train))\n",
    "print(\"Test AUC:\", roc_auc_score(Y_test, Pr_test))"
   ]
  },
  {
   "cell_type": "code",
   "execution_count": 70,
   "id": "4d32c5f7",
   "metadata": {},
   "outputs": [
    {
     "name": "stdout",
     "output_type": "stream",
     "text": [
      "Train F1: 0.9241641750475673\n",
      "Test F1: 0.816933638443936\n"
     ]
    }
   ],
   "source": [
    "print(\"Train F1:\", f1_score(Y_train, P_train))\n",
    "print(\"Test F1:\", f1_score(Y_test, P_test))"
   ]
  },
  {
   "cell_type": "code",
   "execution_count": 71,
   "id": "bca45e04",
   "metadata": {},
   "outputs": [
    {
     "data": {
      "text/plain": [
       "[array([[-4.147718 ],\n",
       "        [ 3.0382614],\n",
       "        [-3.4156446],\n",
       "        ...,\n",
       "        [-4.033657 ],\n",
       "        [-0.6504935],\n",
       "        [-6.0587454]], dtype=float32),\n",
       " array([-0.2740847], dtype=float32)]"
      ]
     },
     "execution_count": 71,
     "metadata": {},
     "output_type": "execute_result"
    }
   ],
   "source": [
    "model.layers[1].get_weights()"
   ]
  },
  {
   "cell_type": "code",
   "execution_count": 86,
   "id": "dd602d4a",
   "metadata": {},
   "outputs": [
    {
     "data": {
      "text/plain": [
       "(1,)"
      ]
     },
     "execution_count": 86,
     "metadata": {},
     "output_type": "execute_result"
    }
   ],
   "source": [
    "model.layers[1].get_weights()[1].shape"
   ]
  },
  {
   "cell_type": "code",
   "execution_count": 72,
   "id": "f87cd09e",
   "metadata": {},
   "outputs": [],
   "source": [
    "w = model.layers[1].get_weights()[0]"
   ]
  },
  {
   "cell_type": "code",
   "execution_count": 73,
   "id": "6985deee",
   "metadata": {},
   "outputs": [
    {
     "data": {
      "text/plain": [
       "{'usairways': 1865,\n",
       " 'three': 1748,\n",
       " 'hour': 905,\n",
       " 'flight': 733,\n",
       " 'delay': 507,\n",
       " 'on': 1249,\n",
       " 'the': 1730,\n",
       " 'phone': 1324,\n",
       " 'for': 762,\n",
       " 'and': 143,\n",
       " 'counting': 453,\n",
       " 'americanair': 138,\n",
       " 'please': 1345,\n",
       " 'do': 571,\n",
       " 'something': 1616,\n",
       " 'about': 76,\n",
       " 'boarding': 262,\n",
       " 'at': 190,\n",
       " 'dca': 495,\n",
       " 'many': 1102,\n",
       " 'delays': 510,\n",
       " 'to': 1764,\n",
       " 'planes': 1339,\n",
       " 'tarmac': 1709,\n",
       " 'despite': 531,\n",
       " 'empty': 621,\n",
       " 'gates': 803,\n",
       " 'mess': 1129,\n",
       " 'united': 1844,\n",
       " 'you': 1994,\n",
       " 'left': 1025,\n",
       " 'my': 1186,\n",
       " 'bag': 216,\n",
       " 'in': 937,\n",
       " 'houston': 908,\n",
       " 'last': 1015,\n",
       " 'night': 1207,\n",
       " 'it': 972,\n",
       " 'freezing': 776,\n",
       " 'cold': 387,\n",
       " 'memphis': 1125,\n",
       " 'any': 154,\n",
       " 'idea': 925,\n",
       " 'when': 1933,\n",
       " 'will': 1945,\n",
       " 'see': 1536,\n",
       " 'off': 1235,\n",
       " 'again': 106,\n",
       " 'tomorrow': 1769,\n",
       " 'thank': 1724,\n",
       " 'wonderful': 1957,\n",
       " 'global': 816,\n",
       " 'first': 724,\n",
       " 'class': 368,\n",
       " 'your': 1996,\n",
       " '777': 67,\n",
       " 'great': 828,\n",
       " 'service': 1550,\n",
       " 'cont': 433,\n",
       " 'http': 913,\n",
       " 'co': 382,\n",
       " 'jetblue': 981,\n",
       " 'is': 966,\n",
       " 'so': 1607,\n",
       " 'today': 1765,\n",
       " 'southwestair': 1627,\n",
       " 'took': 1772,\n",
       " 'one': 1252,\n",
       " 'story': 1665,\n",
       " 'load': 1053,\n",
       " 'we': 1912,\n",
       " 'know': 999,\n",
       " 'not': 1217,\n",
       " 'fault': 695,\n",
       " 'just': 987,\n",
       " 'over': 1279,\n",
       " 'an': 142,\n",
       " 'but': 292,\n",
       " 'as': 180,\n",
       " 'always': 133,\n",
       " 'staff': 1643,\n",
       " 'what': 1928,\n",
       " 'wrong': 1977,\n",
       " 'boston': 268,\n",
       " 'why': 1941,\n",
       " 'are': 170,\n",
       " 'only': 1255,\n",
       " 'leaving': 1024,\n",
       " 'tonight': 1770,\n",
       " 'son': 1618,\n",
       " 'needs': 1198,\n",
       " 'get': 807,\n",
       " 'back': 212,\n",
       " 'state': 1650,\n",
       " 'pa': 1284,\n",
       " 'this': 1742,\n",
       " 'attendant': 194,\n",
       " 'was': 1901,\n",
       " 'extremely': 673,\n",
       " 'helpful': 877,\n",
       " 'woman': 1954,\n",
       " 'who': 1938,\n",
       " 'had': 837,\n",
       " 'hard': 854,\n",
       " 'time': 1757,\n",
       " 'very': 1879,\n",
       " 'hey': 882,\n",
       " 'awesome': 208,\n",
       " 'up': 1853,\n",
       " 'with': 1951,\n",
       " 'from': 783,\n",
       " 'delayed': 508,\n",
       " '3hrs': 45,\n",
       " 'does': 572,\n",
       " 'reservation': 1463,\n",
       " 'out': 1275,\n",
       " 'of': 1234,\n",
       " 'mean': 1115,\n",
       " 'hold': 889,\n",
       " 'customer': 478,\n",
       " '12': 8,\n",
       " 'min': 1148,\n",
       " 'want': 1897,\n",
       " 'really': 1419,\n",
       " 'all': 122,\n",
       " 'other': 1270,\n",
       " 'carriers': 320,\n",
       " 've': 1877,\n",
       " 'got': 825,\n",
       " 'no': 1209,\n",
       " 'employees': 620,\n",
       " 'sight': 1578,\n",
       " 'okc': 1246,\n",
       " 'officially': 1240,\n",
       " 'favorite': 696,\n",
       " 'jfk': 983,\n",
       " 'appreciate': 168,\n",
       " 'heads': 867,\n",
       " '10': 3,\n",
       " '45': 52,\n",
       " 'that': 1728,\n",
       " 'bc': 226,\n",
       " 'crew': 465,\n",
       " 'stuck': 1671,\n",
       " 'life': 1040,\n",
       " 'amp': 141,\n",
       " 'they': 1736,\n",
       " 'weren': 1926,\n",
       " 'able': 75,\n",
       " 'without': 1953,\n",
       " 'reflight': 1432,\n",
       " 'booking': 266,\n",
       " 'problems': 1380,\n",
       " 'amount': 140,\n",
       " 'plus': 1348,\n",
       " '25': 29,\n",
       " 'fee': 699,\n",
       " 'help': 875,\n",
       " 'spoke': 1638,\n",
       " 'agents': 109,\n",
       " 'met': 1133,\n",
       " 'agent': 108,\n",
       " 'taken': 1701,\n",
       " 'care': 317,\n",
       " 'thx': 1752,\n",
       " 'reply': 1450,\n",
       " 'too': 1771,\n",
       " 'dm': 569,\n",
       " 'would': 1974,\n",
       " 'like': 1041,\n",
       " 'talk': 1705,\n",
       " 'cust': 477,\n",
       " 'rep': 1447,\n",
       " 'going': 820,\n",
       " 'there': 1734,\n",
       " 'well': 1923,\n",
       " 'bar': 221,\n",
       " 'set': 1553,\n",
       " 'guys': 835,\n",
       " 'good': 824,\n",
       " 'apology': 163,\n",
       " 'game': 800,\n",
       " 'change': 340,\n",
       " 'learn': 1019,\n",
       " 'hopefully': 898,\n",
       " 'now': 1227,\n",
       " 'finally': 717,\n",
       " 'go': 817,\n",
       " 'through': 1749,\n",
       " 'called': 302,\n",
       " '3x': 48,\n",
       " 'says': 1520,\n",
       " 'high': 884,\n",
       " 'call': 300,\n",
       " 'minute': 1154,\n",
       " 'international': 959,\n",
       " 'calls': 304,\n",
       " 'way': 1910,\n",
       " 'someone': 1615,\n",
       " 'can': 307,\n",
       " 'contact': 434,\n",
       " 'me': 1113,\n",
       " 'give': 811,\n",
       " 'thing': 1737,\n",
       " 'consistent': 430,\n",
       " 'unfortunately': 1840,\n",
       " 'doing': 576,\n",
       " 'job': 984,\n",
       " 'huge': 915,\n",
       " 'joke': 985,\n",
       " 'cancelled': 308,\n",
       " 'reason': 1420,\n",
       " '3rd': 47,\n",
       " 'trip': 1799,\n",
       " 'have': 860,\n",
       " 'if': 927,\n",
       " 'anything': 157,\n",
       " 'try': 1807,\n",
       " 'policy': 1355,\n",
       " 'never': 1199,\n",
       " 'lines': 1045,\n",
       " 'may': 1109,\n",
       " 'be': 229,\n",
       " 'extra': 672,\n",
       " 'long': 1062,\n",
       " 'or': 1263,\n",
       " 'security': 1535,\n",
       " 'slow': 1599,\n",
       " 'seems': 1538,\n",
       " 'quick': 1405,\n",
       " 'blame': 257,\n",
       " 'customers': 479,\n",
       " 'don': 579,\n",
       " 'arrive': 175,\n",
       " 'hours': 906,\n",
       " 'ahead': 112,\n",
       " 'flighted': 737,\n",
       " 'been': 235,\n",
       " '50': 55,\n",
       " 'minutes': 1155,\n",
       " 'human': 916,\n",
       " 'wanna': 1896,\n",
       " 'away': 207,\n",
       " 'kudos': 1003,\n",
       " 'gate': 802,\n",
       " '21': 24,\n",
       " 'pm': 1350,\n",
       " 'ran': 1408,\n",
       " 'keep': 989,\n",
       " 'bags': 218,\n",
       " 'ground': 829,\n",
       " 'degree': 506,\n",
       " 'prepared': 1370,\n",
       " 'claim': 366,\n",
       " 'lost': 1070,\n",
       " 'carry': 321,\n",
       " 'hands': 845,\n",
       " 'yeah': 1984,\n",
       " 'mark': 1104,\n",
       " 'mile': 1142,\n",
       " 'also': 130,\n",
       " 're': 1412,\n",
       " 'late': 1016,\n",
       " 'thanks': 1726,\n",
       " 'speaking': 1631,\n",
       " 'https': 914,\n",
       " 'lots': 1072,\n",
       " 'upset': 1860,\n",
       " 'people': 1312,\n",
       " 'terminal': 1719,\n",
       " 'kept': 992,\n",
       " 'us': 1862,\n",
       " 'waiting': 1893,\n",
       " 'plane': 1338,\n",
       " 'beyond': 246,\n",
       " 'morning': 1173,\n",
       " 'before': 236,\n",
       " 'pilots': 1331,\n",
       " 'fail': 679,\n",
       " 'yes': 1989,\n",
       " 'glad': 815,\n",
       " 'headed': 865,\n",
       " 'home': 892,\n",
       " 'mobile': 1164,\n",
       " 'app': 164,\n",
       " 'horrible': 900,\n",
       " 'major': 1092,\n",
       " 'break': 273,\n",
       " 'whatever': 1929,\n",
       " 'take': 1700,\n",
       " 'responsibility': 1474,\n",
       " 'bad': 213,\n",
       " 'media': 1120,\n",
       " 'cnn': 381,\n",
       " 'every': 644,\n",
       " 'check': 353,\n",
       " 'airline': 115,\n",
       " 'same': 1511,\n",
       " 'clothes': 376,\n",
       " 'days': 493,\n",
       " 'interview': 961,\n",
       " 'ual': 1828,\n",
       " 'buf': 283,\n",
       " 'ord': 1264,\n",
       " 'uncomfortable': 1835,\n",
       " 'am': 134,\n",
       " 'trying': 1808,\n",
       " 'phx': 1326,\n",
       " 'saying': 1519,\n",
       " 'access': 84,\n",
       " 'makes': 1094,\n",
       " 'faster': 693,\n",
       " 'need': 1196,\n",
       " 'more': 1172,\n",
       " 'than': 1723,\n",
       " 'gt': 831,\n",
       " 'hostage': 901,\n",
       " 'bus': 289,\n",
       " 'sitting': 1588,\n",
       " 'announcement': 147,\n",
       " 'flightled': 741,\n",
       " 'avail': 202,\n",
       " 'rebook': 1422,\n",
       " 'after': 104,\n",
       " 'hrs': 912,\n",
       " 'reach': 1413,\n",
       " 'real': 1417,\n",
       " 'did': 540,\n",
       " '36': 43,\n",
       " 'worst': 1972,\n",
       " 'company': 400,\n",
       " 'ever': 643,\n",
       " 'fly': 752,\n",
       " 'them': 1732,\n",
       " 'credit': 464,\n",
       " 'couldn': 449,\n",
       " 'their': 1731,\n",
       " 'flights': 745,\n",
       " 'rebooked': 1423,\n",
       " 'myself': 1187,\n",
       " 'leave': 1022,\n",
       " 'were': 1925,\n",
       " 'supposed': 1685,\n",
       " 'impressed': 935,\n",
       " 'booked': 265,\n",
       " 'by': 296,\n",
       " 'missed': 1159,\n",
       " 'flying': 756,\n",
       " 'fl': 729,\n",
       " 'seattle': 1532,\n",
       " '28': 32,\n",
       " '2015': 23,\n",
       " 'until': 1852,\n",
       " 'honor': 896,\n",
       " 'calling': 303,\n",
       " 'how': 909,\n",
       " 'come': 390,\n",
       " 'baggage': 217,\n",
       " 'updates': 1856,\n",
       " 'air': 113,\n",
       " 'line': 1044,\n",
       " 'compassion': 401,\n",
       " 'poor': 1356,\n",
       " 'think': 1739,\n",
       " 'another': 149,\n",
       " 'confirm': 418,\n",
       " 'funds': 794,\n",
       " 'still': 1660,\n",
       " 'used': 1869,\n",
       " 'future': 798,\n",
       " 'transfer': 1786,\n",
       " 'has': 856,\n",
       " 'maintenance': 1091,\n",
       " 'issues': 971,\n",
       " 'didn': 541,\n",
       " 'miss': 1158,\n",
       " 'coming': 393,\n",
       " '2hrs': 34,\n",
       " 'haven': 861,\n",
       " 'spoken': 1639,\n",
       " 'oh': 1243,\n",
       " 'right': 1480,\n",
       " 'arrived': 176,\n",
       " 'ago': 110,\n",
       " 'respond': 1469,\n",
       " 'msg': 1179,\n",
       " 'tickets': 1754,\n",
       " 'getting': 809,\n",
       " 'angry': 144,\n",
       " 'disappointed': 555,\n",
       " 'could': 448,\n",
       " 'info': 950,\n",
       " 'passes': 1301,\n",
       " 'two': 1823,\n",
       " 'row': 1493,\n",
       " 'explained': 669,\n",
       " 'passengers': 1300,\n",
       " 'nothing': 1221,\n",
       " 'virginamerica': 1884,\n",
       " 'sounds': 1624,\n",
       " 'fun': 793,\n",
       " '728': 65,\n",
       " 'feb': 698,\n",
       " 'power': 1363,\n",
       " 'third': 1741,\n",
       " 'passenger': 1299,\n",
       " 'palm': 1288,\n",
       " 'springs': 1641,\n",
       " '19': 17,\n",
       " 'deserves': 528,\n",
       " 'handled': 843,\n",
       " '30': 36,\n",
       " 'ppl': 1364,\n",
       " 'missing': 1160,\n",
       " 'fuel': 791,\n",
       " 'add': 94,\n",
       " 'day': 492,\n",
       " 'look': 1064,\n",
       " 'thats': 1729,\n",
       " 'problem': 1379,\n",
       " 'suck': 1675,\n",
       " 'iah': 920,\n",
       " '8am': 70,\n",
       " 'takeoff': 1702,\n",
       " 'wtf': 1979,\n",
       " '15': 12,\n",
       " 'san': 1512,\n",
       " 'unacceptable': 1832,\n",
       " 'said': 1510,\n",
       " 'hung': 917,\n",
       " 'wait': 1891,\n",
       " 'welcome': 1922,\n",
       " 'anyone': 156,\n",
       " 'works': 1966,\n",
       " 'those': 1745,\n",
       " 'conditions': 415,\n",
       " 'even': 640,\n",
       " 'though': 1746,\n",
       " 'side': 1577,\n",
       " 'lol': 1060,\n",
       " 'estimated': 638,\n",
       " 'understand': 1837,\n",
       " 'wasn': 1902,\n",
       " 'better': 244,\n",
       " 'cx': 484,\n",
       " 'almost': 126,\n",
       " 'entire': 630,\n",
       " 'east': 606,\n",
       " 'taking': 1704,\n",
       " 'traveling': 1792,\n",
       " 'fine': 720,\n",
       " 'asap': 181,\n",
       " 'updated': 1855,\n",
       " 'connections': 427,\n",
       " 'make': 1093,\n",
       " 'friend': 779,\n",
       " 'wedding': 1916,\n",
       " 'answering': 152,\n",
       " 'keeping': 990,\n",
       " 'lovely': 1078,\n",
       " 'travel': 1788,\n",
       " 'sfo': 1556,\n",
       " 'unitedairlines': 1845,\n",
       " 'pls': 1347,\n",
       " 'fix': 727,\n",
       " 'pay': 1307,\n",
       " 'own': 1283,\n",
       " 'den': 515,\n",
       " 'knowing': 1000,\n",
       " 'issue': 969,\n",
       " 'won': 1955,\n",
       " 'cle': 369,\n",
       " 'because': 233,\n",
       " 'enter': 628,\n",
       " 'merger': 1128,\n",
       " 'done': 580,\n",
       " 'absurd': 80,\n",
       " 'should': 1569,\n",
       " 'kids': 995,\n",
       " 'chicago': 359,\n",
       " 'seat': 1528,\n",
       " 'seriously': 1548,\n",
       " 'suggest': 1677,\n",
       " 'charlotte': 350,\n",
       " 'nc': 1193,\n",
       " 'provided': 1389,\n",
       " 'past': 1302,\n",
       " 'into': 963,\n",
       " 'speak': 1630,\n",
       " 'dallas': 486,\n",
       " 'office': 1239,\n",
       " 'told': 1768,\n",
       " 'he': 863,\n",
       " 'plenty': 1346,\n",
       " 'ways': 1911,\n",
       " 'gotten': 827,\n",
       " 'badcustomerservice': 214,\n",
       " 'charging': 349,\n",
       " 'switching': 1695,\n",
       " 'anyway': 158,\n",
       " 'pretty': 1371,\n",
       " 'nice': 1206,\n",
       " 'customerservice': 480,\n",
       " 'worse': 1971,\n",
       " 'weather': 1913,\n",
       " 'awful': 209,\n",
       " 'show': 1572,\n",
       " 'some': 1612,\n",
       " 'love': 1075,\n",
       " 'companion': 399,\n",
       " 'heading': 866,\n",
       " 'wednesday': 1917,\n",
       " 'big': 247,\n",
       " 'week': 1918,\n",
       " 'aa': 74,\n",
       " 'family': 686,\n",
       " 'nope': 1214,\n",
       " 'yet': 1991,\n",
       " 'wow': 1976,\n",
       " 'deal': 498,\n",
       " 'seats': 1531,\n",
       " 'available': 203,\n",
       " 'easy': 607,\n",
       " 'happy': 853,\n",
       " 'everyone': 645,\n",
       " 'red': 1430,\n",
       " 'tx': 1824,\n",
       " 'luggage': 1085,\n",
       " '75': 66,\n",
       " 'voucher': 1888,\n",
       " 'software': 1609,\n",
       " 'system': 1696,\n",
       " 'busy': 291,\n",
       " 'handle': 842,\n",
       " 'hoping': 899,\n",
       " 'answer': 150,\n",
       " 'misplaced': 1157,\n",
       " 'hr': 911,\n",
       " 'tell': 1715,\n",
       " 'where': 1935,\n",
       " '1000': 5,\n",
       " 'stuff': 1672,\n",
       " 'americanairlines': 139,\n",
       " 'patient': 1305,\n",
       " 'new': 1201,\n",
       " '18': 16,\n",
       " 'doesn': 573,\n",
       " 'based': 222,\n",
       " 'ok': 1244,\n",
       " 'doors': 583,\n",
       " 'close': 374,\n",
       " 'stop': 1662,\n",
       " 'telling': 1716,\n",
       " '20': 21,\n",
       " 'boarded': 261,\n",
       " 'ipad': 964,\n",
       " 'plz': 1349,\n",
       " 'spend': 1635,\n",
       " '100': 4,\n",
       " 'ur': 1861,\n",
       " 'equipment': 633,\n",
       " 'failure': 682,\n",
       " 'end': 622,\n",
       " 'train': 1783,\n",
       " 'communicate': 396,\n",
       " 'changed': 341,\n",
       " 'hate': 858,\n",
       " 'seating': 1530,\n",
       " 'wanted': 1898,\n",
       " 'complaint': 406,\n",
       " 'columbus': 388,\n",
       " 'find': 718,\n",
       " 'turns': 1815,\n",
       " 'refuse': 1436,\n",
       " '400': 50,\n",
       " 'due': 595,\n",
       " 'mechanics': 1119,\n",
       " 'email': 614,\n",
       " 'placed': 1336,\n",
       " 'characters': 345,\n",
       " 'guy': 834,\n",
       " 'knows': 1002,\n",
       " 'upgraded': 1858,\n",
       " 'sure': 1686,\n",
       " 'address': 98,\n",
       " 'then': 1733,\n",
       " 'fair': 683,\n",
       " 'pilot': 1330,\n",
       " 'tells': 1717,\n",
       " 'airways': 120,\n",
       " 'across': 90,\n",
       " 'country': 454,\n",
       " 'stopped': 1663,\n",
       " 'computer': 410,\n",
       " 'multiple': 1183,\n",
       " 'tracking': 1781,\n",
       " 'date': 490,\n",
       " 'swa': 1691,\n",
       " 'website': 1915,\n",
       " 'delivery': 513,\n",
       " 'cab': 297,\n",
       " 'airport': 118,\n",
       " 'dept': 526,\n",
       " 'wet': 1927,\n",
       " 'option': 1261,\n",
       " '2nd': 35,\n",
       " 'happened': 850,\n",
       " 'man': 1097,\n",
       " 'bathroom': 225,\n",
       " 'currently': 476,\n",
       " 'im': 929,\n",
       " 'bringing': 275,\n",
       " 'year': 1985,\n",
       " 'old': 1247,\n",
       " 'being': 238,\n",
       " 'mins': 1152,\n",
       " 'prior': 1376,\n",
       " 'departure': 523,\n",
       " 'here': 881,\n",
       " 'less': 1028,\n",
       " 'driving': 590,\n",
       " 'thru': 1750,\n",
       " 'lack': 1005,\n",
       " 'flightr': 744,\n",
       " 'standby': 1645,\n",
       " 'issued': 970,\n",
       " 'advisory': 102,\n",
       " 'thursday': 1751,\n",
       " 'snow': 1606,\n",
       " 'broken': 277,\n",
       " 'onboard': 1250,\n",
       " 'surprise': 1687,\n",
       " 'hi': 883,\n",
       " 'confirmation': 419,\n",
       " 'lga': 1035,\n",
       " 'nyc': 1232,\n",
       " 'airplane': 117,\n",
       " 'dont': 581,\n",
       " 'means': 1116,\n",
       " 'isnt': 968,\n",
       " 'best': 242,\n",
       " 'experience': 664,\n",
       " 'cool': 441,\n",
       " 'birthday': 252,\n",
       " 'cause': 326,\n",
       " 'middle': 1139,\n",
       " 'name': 1189,\n",
       " 'during': 598,\n",
       " 'seem': 1537,\n",
       " 'response': 1472,\n",
       " 'idiots': 926,\n",
       " 'forcing': 764,\n",
       " 'love_dragonss': 1076,\n",
       " 'god': 818,\n",
       " 'appreciated': 169,\n",
       " 'case': 323,\n",
       " 'waited': 1892,\n",
       " '55': 57,\n",
       " 'log': 1058,\n",
       " 'twice': 1821,\n",
       " 'holding': 891,\n",
       " 'correct': 443,\n",
       " 'online': 1254,\n",
       " 'error': 634,\n",
       " 'unhappy': 1842,\n",
       " '11': 7,\n",
       " 'actually': 93,\n",
       " 'premium': 1369,\n",
       " 'cost': 445,\n",
       " 'allow': 123,\n",
       " 'purchase': 1397,\n",
       " 'friends': 781,\n",
       " 'since': 1583,\n",
       " '7am': 68,\n",
       " 'sat': 1513,\n",
       " 'truly': 1805,\n",
       " 'weekend': 1919,\n",
       " 'wifi': 1944,\n",
       " 'super': 1681,\n",
       " 'crappy': 461,\n",
       " 'finish': 722,\n",
       " 'paid': 1286,\n",
       " '1st': 20,\n",
       " 'sound': 1623,\n",
       " 'method': 1134,\n",
       " '22': 25,\n",
       " 'work': 1962,\n",
       " 'folks': 757,\n",
       " 'become': 234,\n",
       " 'received': 1426,\n",
       " 'text': 1722,\n",
       " 'automated': 201,\n",
       " 'either': 611,\n",
       " 'literally': 1049,\n",
       " 'information': 951,\n",
       " 'happening': 851,\n",
       " 'bna': 259,\n",
       " 'pbi': 1309,\n",
       " 'omg': 1248,\n",
       " 'nashville': 1191,\n",
       " '40': 49,\n",
       " 'happen': 849,\n",
       " 'delta': 514,\n",
       " 'screw': 1525,\n",
       " 'airlines': 116,\n",
       " 'our': 1273,\n",
       " 'checked': 354,\n",
       " 'already': 129,\n",
       " 'ridiculous': 1479,\n",
       " 'diff': 544,\n",
       " 'takes': 1703,\n",
       " 'unitedsucks': 1847,\n",
       " 'wife': 1943,\n",
       " 'daughter': 491,\n",
       " 'flt': 750,\n",
       " 'follow': 758,\n",
       " 'details': 535,\n",
       " 'land': 1009,\n",
       " 'wouldn': 1975,\n",
       " 'worked': 1963,\n",
       " 'correctly': 444,\n",
       " 'true': 1803,\n",
       " 'bit': 253,\n",
       " 'further': 797,\n",
       " 'asked': 184,\n",
       " 'questions': 1403,\n",
       " 'might': 1141,\n",
       " 'mke': 1163,\n",
       " 'much': 1182,\n",
       " 'dfw': 537,\n",
       " 'rude': 1498,\n",
       " 'parents': 1291,\n",
       " 'lie': 1037,\n",
       " 'accepting': 83,\n",
       " 'let': 1030,\n",
       " 'these': 1735,\n",
       " 'sharing': 1560,\n",
       " 'll': 1052,\n",
       " 'drop': 591,\n",
       " 'next': 1204,\n",
       " 'visit': 1885,\n",
       " 'sent': 1546,\n",
       " 'reps': 1455,\n",
       " 'none': 1212,\n",
       " 'lot': 1071,\n",
       " 'business': 290,\n",
       " 'using': 1871,\n",
       " 'cant': 312,\n",
       " 'believe': 239,\n",
       " 'card': 316,\n",
       " 'live': 1051,\n",
       " '200': 22,\n",
       " 'dollars': 577,\n",
       " 'food': 761,\n",
       " 'comp': 398,\n",
       " 'talking': 1707,\n",
       " 'article': 179,\n",
       " 'twitter': 1822,\n",
       " 'came': 305,\n",
       " 'exact': 649,\n",
       " 'atl': 191,\n",
       " 'charge': 346,\n",
       " 'frustrated': 786,\n",
       " 'saw': 1517,\n",
       " 'unable': 1831,\n",
       " 'book': 264,\n",
       " 'put': 1400,\n",
       " 'report': 1452,\n",
       " 'ticket': 1753,\n",
       " 'pending': 1311,\n",
       " 'normal': 1216,\n",
       " 'isn': 967,\n",
       " 'say': 1518,\n",
       " 'patience': 1304,\n",
       " 'probably': 1378,\n",
       " 'southwest': 1626,\n",
       " 'others': 1271,\n",
       " 'fill': 714,\n",
       " 'form': 767,\n",
       " 'receive': 1425,\n",
       " 'expect': 661,\n",
       " 'members': 1124,\n",
       " 'gonna': 823,\n",
       " 'connection': 426,\n",
       " 'mdw': 1112,\n",
       " 'must': 1185,\n",
       " 'web': 1914,\n",
       " '59': 58,\n",
       " 'basic': 223,\n",
       " 'which': 1936,\n",
       " 'ewr': 648,\n",
       " 'manage': 1098,\n",
       " 'concerned': 413,\n",
       " 'attendants': 195,\n",
       " 'afternoon': 105,\n",
       " 'vacation': 1874,\n",
       " 'pr': 1365,\n",
       " 'losing': 1069,\n",
       " 'sleeping': 1597,\n",
       " 'newark': 1202,\n",
       " 'its': 976,\n",
       " 'buy': 294,\n",
       " 'lower': 1079,\n",
       " 'rate': 1409,\n",
       " 'trouble': 1801,\n",
       " 'painful': 1287,\n",
       " 'treat': 1794,\n",
       " 'explain': 668,\n",
       " 'acceptable': 82,\n",
       " 'attempt': 193,\n",
       " 'redeem': 1431,\n",
       " 'social': 1608,\n",
       " 'crazy': 462,\n",
       " 'video': 1881,\n",
       " 'csr': 471,\n",
       " 'till': 1756,\n",
       " 'tuesday': 1811,\n",
       " 'rt': 1497,\n",
       " 'hope': 897,\n",
       " 'advise': 101,\n",
       " 'clt': 377,\n",
       " 'clearly': 372,\n",
       " 'fit': 725,\n",
       " 'trust': 1806,\n",
       " 'anywhere': 159,\n",
       " 'account': 87,\n",
       " 'she': 1561,\n",
       " 'mine': 1150,\n",
       " 'la': 1004,\n",
       " 'hear': 868,\n",
       " 'sorry': 1620,\n",
       " 'sending': 1544,\n",
       " 'generic': 806,\n",
       " 'responses': 1473,\n",
       " 'notifications': 1224,\n",
       " 'board': 260,\n",
       " 'accurate': 89,\n",
       " '1hr': 18,\n",
       " 'msy': 1181,\n",
       " 'totally': 1775,\n",
       " 'working': 1965,\n",
       " 'wish': 1950,\n",
       " 'hadn': 838,\n",
       " '24': 27,\n",
       " 'fire': 723,\n",
       " 'via': 1880,\n",
       " 'given': 812,\n",
       " 'number': 1228,\n",
       " 'connected': 424,\n",
       " 'priority': 1377,\n",
       " 'carousel': 318,\n",
       " 'connect': 423,\n",
       " 'person': 1317,\n",
       " 'having': 862,\n",
       " 'resolve': 1466,\n",
       " 'phones': 1325,\n",
       " 'pick': 1327,\n",
       " 'merge': 1127,\n",
       " 'items': 974,\n",
       " 'callback': 301,\n",
       " 'exec': 657,\n",
       " 'dropped': 592,\n",
       " 'least': 1021,\n",
       " 'somewhere': 1617,\n",
       " 'else': 613,\n",
       " 'different': 546,\n",
       " 'hang': 846,\n",
       " 'chaos': 344,\n",
       " 'frozen': 785,\n",
       " 'vegas': 1878,\n",
       " 'bos': 267,\n",
       " 'fll': 746,\n",
       " 'terrible': 1720,\n",
       " 'shit': 1562,\n",
       " 'fails': 681,\n",
       " 'rock': 1484,\n",
       " 'frustration': 788,\n",
       " 'gotta': 826,\n",
       " 'reschedule': 1460,\n",
       " 'free': 775,\n",
       " 'hotel': 903,\n",
       " 'enjoy': 626,\n",
       " 'brought': 279,\n",
       " 'warm': 1900,\n",
       " 'coat': 384,\n",
       " 'figure': 710,\n",
       " 'both': 269,\n",
       " 'located': 1056,\n",
       " 'informed': 952,\n",
       " 'flew': 732,\n",
       " 'shouldn': 1570,\n",
       " 'matter': 1107,\n",
       " 'pleasant': 1344,\n",
       " 'difficult': 547,\n",
       " 'stressful': 1670,\n",
       " 'learned': 1020,\n",
       " 'lesson': 1029,\n",
       " 'possibly': 1361,\n",
       " 'originally': 1267,\n",
       " 'sunday': 1680,\n",
       " 'rescheduled': 1461,\n",
       " 'tried': 1798,\n",
       " 'list': 1047,\n",
       " 'hot': 902,\n",
       " 'eat': 608,\n",
       " 'phl': 1321,\n",
       " 'original': 1266,\n",
       " 'gives': 813,\n",
       " 'looks': 1067,\n",
       " '14': 10,\n",
       " 'heard': 869,\n",
       " 'word': 1960,\n",
       " 'plan': 1337,\n",
       " 'zero': 1999,\n",
       " 'responded': 1470,\n",
       " 'snack': 1604,\n",
       " 'common': 395,\n",
       " 'room': 1486,\n",
       " 'gave': 804,\n",
       " 'yesterday': 1990,\n",
       " 'moment': 1166,\n",
       " 'unexpected': 1839,\n",
       " 'price': 1373,\n",
       " 'talked': 1706,\n",
       " 'lady': 1006,\n",
       " 'honest': 893,\n",
       " 'update': 1854,\n",
       " 'infant': 948,\n",
       " 'children': 361,\n",
       " 'spent': 1637,\n",
       " 'support': 1683,\n",
       " 'confirmed': 420,\n",
       " 'california': 299,\n",
       " 'team': 1712,\n",
       " 'march': 1103,\n",
       " 'lt': 1082,\n",
       " 'attitude': 197,\n",
       " 'tag': 1699,\n",
       " 'tweet': 1817,\n",
       " 'little': 1050,\n",
       " 'brother': 278,\n",
       " 'watch': 1906,\n",
       " 'flyfi': 755,\n",
       " 'sweet': 1692,\n",
       " 'denver': 517,\n",
       " 'pulling': 1396,\n",
       " 'order': 1265,\n",
       " 'far': 689,\n",
       " 'earlier': 601,\n",
       " 'offered': 1237,\n",
       " 'aren': 172,\n",
       " 'refund': 1433,\n",
       " 'charged': 347,\n",
       " 'times': 1759,\n",
       " 'bring': 274,\n",
       " 'feature': 697,\n",
       " 'question': 1402,\n",
       " 'while': 1937,\n",
       " 'whose': 1940,\n",
       " 'final': 716,\n",
       " 'carrier': 319,\n",
       " 'beautiful': 232,\n",
       " 'fleet': 731,\n",
       " 'perfect': 1314,\n",
       " 'evening': 641,\n",
       " 'husband': 918,\n",
       " 'rdu': 1411,\n",
       " 'iad': 919,\n",
       " 'his': 887,\n",
       " 'lucky': 1084,\n",
       " 'bwi': 295,\n",
       " 'excellent': 652,\n",
       " 'okay': 1245,\n",
       " 'front': 784,\n",
       " 'instead': 956,\n",
       " 'car': 315,\n",
       " 'flighting': 738,\n",
       " 'excited': 654,\n",
       " 'friday': 778,\n",
       " 'fa': 674,\n",
       " 'mia': 1136,\n",
       " 'lhr': 1036,\n",
       " 'play': 1343,\n",
       " 'notification': 1223,\n",
       " 'haha': 839,\n",
       " 'notice': 1222,\n",
       " 'offer': 1236,\n",
       " 'compensation': 404,\n",
       " 'wth': 1980,\n",
       " 'direct': 549,\n",
       " 'orlando': 1268,\n",
       " 'thought': 1747,\n",
       " 'looking': 1066,\n",
       " 'forward': 769,\n",
       " 'airports': 119,\n",
       " 'kind': 997,\n",
       " 'loaded': 1054,\n",
       " 'making': 1095,\n",
       " 'choice': 362,\n",
       " 'sold': 1610,\n",
       " ...}"
      ]
     },
     "execution_count": 73,
     "metadata": {},
     "output_type": "execute_result"
    }
   ],
   "source": [
    "word_index_map = vectorizer.vocabulary_\n",
    "word_index_map"
   ]
  },
  {
   "cell_type": "code",
   "execution_count": 102,
   "id": "a4373cec",
   "metadata": {},
   "outputs": [
    {
     "name": "stdout",
     "output_type": "stream",
     "text": [
      "Most positive words:\n",
      "thank 9.953316\n",
      "thanks 9.782922\n",
      "worries 8.214743\n",
      "great 7.463387\n",
      "love 7.333333\n",
      "awesome 7.1589866\n",
      "amazing 7.002546\n",
      "wonderful 6.5618463\n",
      "excellent 6.419103\n",
      "kudos 6.3906317\n"
     ]
    }
   ],
   "source": [
    "# let's look at the weights for each word\n",
    "# try it with different threshold values!\n",
    "threshold = 5\n",
    "\n",
    "print(\"Most positive words:\")\n",
    "word_weight_tuples = []\n",
    "for word, index in word_index_map.items():\n",
    "    weight = w[index, 0]\n",
    "    if weight > threshold:\n",
    "        word_weight_tuples.append((word, weight))\n",
    "\n",
    "word_weight_tuples = sorted(word_weight_tuples, key=lambda x: -x[1])\n",
    "for i in range(10):\n",
    "  word, weight = word_weight_tuples[i]\n",
    "  print(word, weight)"
   ]
  },
  {
   "cell_type": "code",
   "execution_count": 103,
   "id": "77fc8f02",
   "metadata": {},
   "outputs": [
    {
     "name": "stdout",
     "output_type": "stream",
     "text": [
      "Most negative words:\n",
      "worst -9.694785\n",
      "paid -8.041878\n",
      "rude -7.83511\n",
      "not -7.5176373\n",
      "disappointed -7.4262877\n",
      "hung -6.990322\n",
      "broken -6.892406\n",
      "nothing -6.4819117\n",
      "error -6.4495964\n",
      "poor -6.4241424\n"
     ]
    }
   ],
   "source": [
    "print(\"Most negative words:\")\n",
    "word_weight_tuples = []\n",
    "for word, index in word_index_map.items():\n",
    "    weight = w[index, 0]\n",
    "    if weight < -threshold:\n",
    "        word_weight_tuples.append((word, weight))\n",
    "\n",
    "word_weight_tuples = sorted(word_weight_tuples, key=lambda x: x[1])\n",
    "for i in range(10):\n",
    "  word, weight = word_weight_tuples[i]\n",
    "  print(word, weight)"
   ]
  },
  {
   "cell_type": "code",
   "execution_count": 105,
   "id": "8f50bbe3",
   "metadata": {},
   "outputs": [
    {
     "data": {
      "text/html": [
       "<pre style=\"white-space:pre;overflow-x:auto;line-height:normal;font-family:Menlo,'DejaVu Sans Mono',consolas,'Courier New',monospace\"><span style=\"font-weight: bold\">Model: \"functional_1\"</span>\n",
       "</pre>\n"
      ],
      "text/plain": [
       "\u001b[1mModel: \"functional_1\"\u001b[0m\n"
      ]
     },
     "metadata": {},
     "output_type": "display_data"
    },
    {
     "data": {
      "text/html": [
       "<pre style=\"white-space:pre;overflow-x:auto;line-height:normal;font-family:Menlo,'DejaVu Sans Mono',consolas,'Courier New',monospace\">┏━━━━━━━━━━━━━━━━━━━━━━━━━━━━━━━━━┳━━━━━━━━━━━━━━━━━━━━━━━━┳━━━━━━━━━━━━━━━┓\n",
       "┃<span style=\"font-weight: bold\"> Layer (type)                    </span>┃<span style=\"font-weight: bold\"> Output Shape           </span>┃<span style=\"font-weight: bold\">       Param # </span>┃\n",
       "┡━━━━━━━━━━━━━━━━━━━━━━━━━━━━━━━━━╇━━━━━━━━━━━━━━━━━━━━━━━━╇━━━━━━━━━━━━━━━┩\n",
       "│ input_layer_1 (<span style=\"color: #0087ff; text-decoration-color: #0087ff\">InputLayer</span>)      │ (<span style=\"color: #00d7ff; text-decoration-color: #00d7ff\">None</span>, <span style=\"color: #00af00; text-decoration-color: #00af00\">2000</span>)           │             <span style=\"color: #00af00; text-decoration-color: #00af00\">0</span> │\n",
       "├─────────────────────────────────┼────────────────────────┼───────────────┤\n",
       "│ dense_1 (<span style=\"color: #0087ff; text-decoration-color: #0087ff\">Dense</span>)                 │ (<span style=\"color: #00d7ff; text-decoration-color: #00d7ff\">None</span>, <span style=\"color: #00af00; text-decoration-color: #00af00\">1</span>)              │         <span style=\"color: #00af00; text-decoration-color: #00af00\">2,001</span> │\n",
       "└─────────────────────────────────┴────────────────────────┴───────────────┘\n",
       "</pre>\n"
      ],
      "text/plain": [
       "┏━━━━━━━━━━━━━━━━━━━━━━━━━━━━━━━━━┳━━━━━━━━━━━━━━━━━━━━━━━━┳━━━━━━━━━━━━━━━┓\n",
       "┃\u001b[1m \u001b[0m\u001b[1mLayer (type)                   \u001b[0m\u001b[1m \u001b[0m┃\u001b[1m \u001b[0m\u001b[1mOutput Shape          \u001b[0m\u001b[1m \u001b[0m┃\u001b[1m \u001b[0m\u001b[1m      Param #\u001b[0m\u001b[1m \u001b[0m┃\n",
       "┡━━━━━━━━━━━━━━━━━━━━━━━━━━━━━━━━━╇━━━━━━━━━━━━━━━━━━━━━━━━╇━━━━━━━━━━━━━━━┩\n",
       "│ input_layer_1 (\u001b[38;5;33mInputLayer\u001b[0m)      │ (\u001b[38;5;45mNone\u001b[0m, \u001b[38;5;34m2000\u001b[0m)           │             \u001b[38;5;34m0\u001b[0m │\n",
       "├─────────────────────────────────┼────────────────────────┼───────────────┤\n",
       "│ dense_1 (\u001b[38;5;33mDense\u001b[0m)                 │ (\u001b[38;5;45mNone\u001b[0m, \u001b[38;5;34m1\u001b[0m)              │         \u001b[38;5;34m2,001\u001b[0m │\n",
       "└─────────────────────────────────┴────────────────────────┴───────────────┘\n"
      ]
     },
     "metadata": {},
     "output_type": "display_data"
    },
    {
     "data": {
      "text/html": [
       "<pre style=\"white-space:pre;overflow-x:auto;line-height:normal;font-family:Menlo,'DejaVu Sans Mono',consolas,'Courier New',monospace\"><span style=\"font-weight: bold\"> Total params: </span><span style=\"color: #00af00; text-decoration-color: #00af00\">6,005</span> (23.46 KB)\n",
       "</pre>\n"
      ],
      "text/plain": [
       "\u001b[1m Total params: \u001b[0m\u001b[38;5;34m6,005\u001b[0m (23.46 KB)\n"
      ]
     },
     "metadata": {},
     "output_type": "display_data"
    },
    {
     "data": {
      "text/html": [
       "<pre style=\"white-space:pre;overflow-x:auto;line-height:normal;font-family:Menlo,'DejaVu Sans Mono',consolas,'Courier New',monospace\"><span style=\"font-weight: bold\"> Trainable params: </span><span style=\"color: #00af00; text-decoration-color: #00af00\">2,001</span> (7.82 KB)\n",
       "</pre>\n"
      ],
      "text/plain": [
       "\u001b[1m Trainable params: \u001b[0m\u001b[38;5;34m2,001\u001b[0m (7.82 KB)\n"
      ]
     },
     "metadata": {},
     "output_type": "display_data"
    },
    {
     "data": {
      "text/html": [
       "<pre style=\"white-space:pre;overflow-x:auto;line-height:normal;font-family:Menlo,'DejaVu Sans Mono',consolas,'Courier New',monospace\"><span style=\"font-weight: bold\"> Non-trainable params: </span><span style=\"color: #00af00; text-decoration-color: #00af00\">0</span> (0.00 B)\n",
       "</pre>\n"
      ],
      "text/plain": [
       "\u001b[1m Non-trainable params: \u001b[0m\u001b[38;5;34m0\u001b[0m (0.00 B)\n"
      ]
     },
     "metadata": {},
     "output_type": "display_data"
    },
    {
     "data": {
      "text/html": [
       "<pre style=\"white-space:pre;overflow-x:auto;line-height:normal;font-family:Menlo,'DejaVu Sans Mono',consolas,'Courier New',monospace\"><span style=\"font-weight: bold\"> Optimizer params: </span><span style=\"color: #00af00; text-decoration-color: #00af00\">4,004</span> (15.64 KB)\n",
       "</pre>\n"
      ],
      "text/plain": [
       "\u001b[1m Optimizer params: \u001b[0m\u001b[38;5;34m4,004\u001b[0m (15.64 KB)\n"
      ]
     },
     "metadata": {},
     "output_type": "display_data"
    }
   ],
   "source": [
    "model.summary()"
   ]
  }
 ],
 "metadata": {
  "kernelspec": {
   "display_name": "nlp-env",
   "language": "python",
   "name": "python3"
  },
  "language_info": {
   "codemirror_mode": {
    "name": "ipython",
    "version": 3
   },
   "file_extension": ".py",
   "mimetype": "text/x-python",
   "name": "python",
   "nbconvert_exporter": "python",
   "pygments_lexer": "ipython3",
   "version": "3.12.6"
  }
 },
 "nbformat": 4,
 "nbformat_minor": 5
}
